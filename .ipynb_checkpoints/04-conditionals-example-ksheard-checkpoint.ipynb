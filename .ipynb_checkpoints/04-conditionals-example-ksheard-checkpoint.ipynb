{
 "cells": [
  {
   "cell_type": "code",
   "execution_count": null,
   "metadata": {
    "collapsed": true
   },
   "outputs": [],
   "source": [
    "import random"
   ]
  },
  {
   "cell_type": "code",
   "execution_count": 55,
   "metadata": {},
   "outputs": [
    {
     "name": "stdout",
     "output_type": "stream",
     "text": [
      "[81, 19, 39, 24, 93, 93, 66, 93, 50, 27, 51, 11, 42, 76, 40, 47, 15, 30, 28, 83, 35, 8, 31, 16, 2, 18, 59, 37, 39, 94, 77, 18, 60, 23, 82, 60, 72, 98, 6, 7, 18, 61, 70, 8, 72, 11, 60, 69, 24, 55, 57]\n"
     ]
    }
   ],
   "source": [
    "#generate a random list of numbers\n",
    "y = []\n",
    "for x in range(51):\n",
    "    x = random.randint(1,100)\n",
    "    y.append(x)\n",
    "print(y)"
   ]
  },
  {
   "cell_type": "code",
   "execution_count": 56,
   "metadata": {
    "scrolled": true
   },
   "outputs": [
    {
     "name": "stdout",
     "output_type": "stream",
     "text": [
      "The little people are [11, 21, 24, 38, 39, 43, 45].\n",
      "The teenagers are [1, 16, 23, 25, 31, 40].\n",
      "The young adults are [3, 9, 17, 18, 20, 22, 33, 48].\n",
      "The middle_aged are [2, 8, 10, 12, 14, 15, 26, 27, 28, 32, 35, 46, 49, 50].\n",
      "The seniors are [0, 4, 5, 6, 7, 13, 19, 29, 30, 34, 36, 37, 41, 42, 44, 47].\n"
     ]
    }
   ],
   "source": [
    "#append the indeces of each number in the list to the righ age group\n",
    "little_people = []\n",
    "teenagers = []\n",
    "young_adults = []\n",
    "middle_aged = []\n",
    "seniors = []\n",
    "for x in range(len(y)):\n",
    "    if y[x] < 13:\n",
    "        little_people.append(x)\n",
    "    elif y[x] >= 13 and y[x] < 20:\n",
    "        teenagers.append(x)\n",
    "    elif y[x] >= 20 and y[x] <= 35:\n",
    "        young_adults.append(x)\n",
    "    elif y[x] >= 36 and y[x] <= 60:\n",
    "        middle_aged.append(x)\n",
    "    else:\n",
    "        seniors.append(x)\n",
    "print(\"The little people are \" + str(little_people)+ \".\")\n",
    "print(\"The teenagers are \" + str(teenagers)+ \".\")\n",
    "print(\"The young adults are \" + str(young_adults)+ \".\")\n",
    "print(\"The middle_aged are \" + str(middle_aged)+ \".\")\n",
    "print(\"The seniors are \" + str(seniors)+ \".\")"
   ]
  },
  {
   "cell_type": "code",
   "execution_count": 54,
   "metadata": {},
   "outputs": [
    {
     "name": "stdout",
     "output_type": "stream",
     "text": [
      "19\n",
      "13\n",
      "19\n",
      "17\n",
      "19\n"
     ]
    }
   ],
   "source": [
    "#check that the loop returned correct results for teenagers group\n",
    "print(y[2])\n",
    "print(y[12])\n",
    "print(y[23])\n",
    "print(y[29])\n",
    "print(y[33])"
   ]
  },
  {
   "cell_type": "code",
   "execution_count": 46,
   "metadata": {
    "collapsed": true
   },
   "outputs": [],
   "source": [
    "a = len(little_people)\n",
    "b = len(teenagers)\n",
    "c = len(young_adults)\n",
    "d = len(middle_aged)\n",
    "e = len(seniors)"
   ]
  },
  {
   "cell_type": "code",
   "execution_count": 47,
   "metadata": {},
   "outputs": [
    {
     "data": {
      "text/plain": [
       "True"
      ]
     },
     "execution_count": 47,
     "metadata": {},
     "output_type": "execute_result"
    }
   ],
   "source": [
    "b == 5"
   ]
  },
  {
   "cell_type": "code",
   "execution_count": 48,
   "metadata": {},
   "outputs": [
    {
     "data": {
      "text/plain": [
       "True"
      ]
     },
     "execution_count": 48,
     "metadata": {},
     "output_type": "execute_result"
    }
   ],
   "source": [
    "e > c"
   ]
  },
  {
   "cell_type": "code",
   "execution_count": 49,
   "metadata": {},
   "outputs": [
    {
     "data": {
      "text/plain": [
       "True"
      ]
     },
     "execution_count": 49,
     "metadata": {},
     "output_type": "execute_result"
    }
   ],
   "source": [
    "d < a"
   ]
  },
  {
   "cell_type": "code",
   "execution_count": 50,
   "metadata": {},
   "outputs": [
    {
     "data": {
      "text/plain": [
       "False"
      ]
     },
     "execution_count": 50,
     "metadata": {},
     "output_type": "execute_result"
    }
   ],
   "source": [
    "d != 7"
   ]
  }
 ],
 "metadata": {
  "kernelspec": {
   "display_name": "Python 3",
   "language": "python",
   "name": "python3"
  },
  "language_info": {
   "codemirror_mode": {
    "name": "ipython",
    "version": 3
   },
   "file_extension": ".py",
   "mimetype": "text/x-python",
   "name": "python",
   "nbconvert_exporter": "python",
   "pygments_lexer": "ipython3",
   "version": "3.6.1"
  }
 },
 "nbformat": 4,
 "nbformat_minor": 2
}
