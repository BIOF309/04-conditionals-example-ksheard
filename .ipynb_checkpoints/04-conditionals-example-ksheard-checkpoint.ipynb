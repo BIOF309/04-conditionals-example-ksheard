{
 "cells": [
  {
   "cell_type": "code",
   "execution_count": null,
   "metadata": {
    "collapsed": true
   },
   "outputs": [],
   "source": [
    "import random"
   ]
  },
  {
   "cell_type": "code",
   "execution_count": 25,
   "metadata": {},
   "outputs": [
    {
     "name": "stdout",
     "output_type": "stream",
     "text": [
      "[37, 28, 19, 71, 4, 69, 25, 2, 100, 70, 72, 36, 13, 8, 84, 3, 54, 23, 12, 92, 9, 86, 97, 19, 79, 33, 94, 76, 11, 17, 99, 30, 34, 19, 96, 27, 98, 6, 72, 40, 21, 11, 68, 76, 55, 33, 41, 77, 51, 30]\n"
     ]
    }
   ],
   "source": [
    "#generate a random list of numbers\n",
    "y = []\n",
    "for x in range(50):\n",
    "    x = random.randint(1,100)\n",
    "    y.append(x)\n",
    "print(y)"
   ]
  },
  {
   "cell_type": "code",
   "execution_count": 42,
   "metadata": {
    "scrolled": true
   },
   "outputs": [
    {
     "name": "stdout",
     "output_type": "stream",
     "text": [
      "The little people are [4, 7, 13, 15, 18, 20, 28, 37, 41].\n",
      "The teenagers are [2, 12, 23, 29, 33].\n",
      "The young adults are [1, 6, 17, 25, 31, 32, 35, 40, 45, 49].\n",
      "The middle_aged are [0, 11, 16, 39, 44, 46, 48].\n",
      "The seniors are [3, 5, 8, 9, 10, 14, 19, 21, 22, 24, 26, 27, 30, 34, 36, 38, 42, 43, 47].\n"
     ]
    }
   ],
   "source": [
    "#append the indeces of each number in the list to the righ age group\n",
    "little_people = []\n",
    "teenagers = []\n",
    "young_adults = []\n",
    "middle_aged = []\n",
    "seniors = []\n",
    "for x in range(len(y)):\n",
    "    if y[x] < 13:\n",
    "        little_people.append(x)\n",
    "    elif y[x] >= 13 and y[x] < 20:\n",
    "        teenagers.append(x)\n",
    "    elif y[x] >= 20 and y[x] <= 35:\n",
    "        young_adults.append(x)\n",
    "    elif y[x] >= 36 and y[x] <= 60:\n",
    "        middle_aged.append(x)\n",
    "    else:\n",
    "        seniors.append(x)\n",
    "print(\"The little people are \" + str(little_people)+ \".\")\n",
    "print(\"The teenagers are \" + str(teenagers)+ \".\")\n",
    "print(\"The young adults are \" + str(young_adults)+ \".\")\n",
    "print(\"The middle_aged are \" + str(middle_aged)+ \".\")\n",
    "print(\"The seniors are \" + str(seniors)+ \".\")"
   ]
  },
  {
   "cell_type": "code",
   "execution_count": 46,
   "metadata": {},
   "outputs": [],
   "source": [
    "a = len(little_people)\n",
    "b = len(teenagers)\n",
    "c = len(young_adults)\n",
    "d = len(middle_aged)\n",
    "e = len(seniors)"
   ]
  },
  {
   "cell_type": "code",
   "execution_count": 47,
   "metadata": {},
   "outputs": [
    {
     "data": {
      "text/plain": [
       "True"
      ]
     },
     "execution_count": 47,
     "metadata": {},
     "output_type": "execute_result"
    }
   ],
   "source": [
    "b == 5"
   ]
  },
  {
   "cell_type": "code",
   "execution_count": 48,
   "metadata": {},
   "outputs": [
    {
     "data": {
      "text/plain": [
       "True"
      ]
     },
     "execution_count": 48,
     "metadata": {},
     "output_type": "execute_result"
    }
   ],
   "source": [
    "e > c"
   ]
  },
  {
   "cell_type": "code",
   "execution_count": 49,
   "metadata": {},
   "outputs": [
    {
     "data": {
      "text/plain": [
       "True"
      ]
     },
     "execution_count": 49,
     "metadata": {},
     "output_type": "execute_result"
    }
   ],
   "source": [
    "d < a"
   ]
  },
  {
   "cell_type": "code",
   "execution_count": 50,
   "metadata": {},
   "outputs": [
    {
     "data": {
      "text/plain": [
       "False"
      ]
     },
     "execution_count": 50,
     "metadata": {},
     "output_type": "execute_result"
    }
   ],
   "source": [
    "d != 7"
   ]
  }
 ],
 "metadata": {
  "kernelspec": {
   "display_name": "Python 3",
   "language": "python",
   "name": "python3"
  },
  "language_info": {
   "codemirror_mode": {
    "name": "ipython",
    "version": 3
   },
   "file_extension": ".py",
   "mimetype": "text/x-python",
   "name": "python",
   "nbconvert_exporter": "python",
   "pygments_lexer": "ipython3",
   "version": "3.6.1"
  }
 },
 "nbformat": 4,
 "nbformat_minor": 2
}
